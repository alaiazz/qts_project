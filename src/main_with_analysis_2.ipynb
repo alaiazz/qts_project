{
 "cells": [
  {
   "cell_type": "markdown",
   "id": "6ea1ac93f217c90c",
   "metadata": {},
   "source": [
    "# 1. Introduction\n",
    "The purpose of this notebook is to assess the profit opportunity of quantile trading strategy based on factors prediction.\n",
    "\n",
    "Though traditional financial ratios offer valuable insights into a company's financial health, they may not always provide the most timely or comprehensive perspective for quantile trading. A factor-based approach, with its focus on predictive analytics and a broader set of variables, can offer a more dynamic and potentially more profitable strategy for navigating the complexities of the US equity market. Therefore, in this notebook, we will try to construct a dynamic quantile trading strategy based on factor and equity return prediction."
   ]
  },
  {
   "cell_type": "code",
   "execution_count": 2,
   "id": "5ea53f0cfe8ebb9",
   "metadata": {
    "ExecuteTime": {
     "end_time": "2024-03-01T18:54:29.890942Z",
     "start_time": "2024-03-01T18:54:29.888725Z"
    }
   },
   "outputs": [],
   "source": [
    "import matplotlib.pyplot as plt\n",
    "import pandas as pd\n",
    "from scipy import stats\n",
    "import seaborn as sns\n",
    "from sklearn.metrics import r2_score\n",
    "from seaborn import heatmap\n",
    "import statsmodels.tsa.stattools as ts\n",
    "from statsmodels.tsa.stattools import adfuller\n",
    "from statsmodels.graphics.tsaplots import plot_acf, plot_pacf\n",
    "from statsmodels.tsa.arima.model import ARIMA\n",
    "from statsmodels.tsa.api import VAR\n",
    "from pmdarima import auto_arima\n",
    "\n",
    "import warnings\n",
    "warnings.filterwarnings('ignore')\n",
    "\n",
    "from src import *"
   ]
  },
  {
   "cell_type": "markdown",
   "id": "cdaebdcd293a7403",
   "metadata": {},
   "source": [
    "# 2. Data\n",
    "\n",
    "We mainly obtain price and financial data from Quandl database (EOD and Zacks). The preprocess of data contains 3 major parts:\n",
    "1. Universe selection\n",
    "2. Ratio calculation\n",
    "3. Return calculation\n",
    "\n",
    "We then perform exploratory data analysis (EDA) on ratios and factor returns to guide our prediction model construction."
   ]
  },
  {
   "cell_type": "code",
   "execution_count": 27,
   "id": "cbfab9d1235e6ed0",
   "metadata": {
    "ExecuteTime": {
     "end_time": "2024-03-01T18:54:32.476438Z",
     "start_time": "2024-03-01T18:54:30.389842Z"
    }
   },
   "outputs": [
    {
     "name": "stdout",
     "output_type": "stream",
     "text": [
      "Our universe contains 396 tickers in total.\n"
     ]
    }
   ],
   "source": [
    "tickers = find_valid_universe()\n",
    "print(f\"Our universe contains {len(tickers)} tickers in total.\")"
   ]
  },
  {
   "cell_type": "code",
   "execution_count": 28,
   "id": "785cc9f8f3110a6d",
   "metadata": {
    "ExecuteTime": {
     "end_time": "2024-03-01T18:54:32.560359Z",
     "start_time": "2024-03-01T18:54:32.468305Z"
    }
   },
   "outputs": [
    {
     "data": {
      "text/plain": [
       "(98575, 69)"
      ]
     },
     "execution_count": 28,
     "metadata": {},
     "output_type": "execute_result"
    }
   ],
   "source": [
    "ratio = calc_ratio(use_cache=True, use_data_cache=True, tickers=tickers\n",
    "                   ).dropna(how=\"all\", axis=1)\n",
    "ratio_col = list(set(ratio_col).intersection(ratio.columns))\n",
    "ratio.shape"
   ]
  },
  {
   "cell_type": "code",
   "execution_count": 29,
   "id": "eda0088fbb67cdc1",
   "metadata": {
    "ExecuteTime": {
     "end_time": "2024-03-01T18:54:32.560565Z",
     "start_time": "2024-03-01T18:54:32.527536Z"
    }
   },
   "outputs": [
    {
     "name": "stdout",
     "output_type": "stream",
     "text": [
      "Ratio list (n=68): ['excl_exp', 'curr_ratio', 'cash_profit', 'oper_cash_flow_per_share', 'ret_invst', 'V20', 'ebit_margin', 'rev_growth', 'AU', 'ret_6_12', 'VEMA12', 'price_pos', 'AD', 'quantile_95', 'PVO', 'cmo', 'rs_volatility', 'p_volatility', 'Altman_Z_Score', 'DPO', 'rcv_turn', 'win_pct', 'alpha6', 'pretax_profit_margin', 'book_val_per_share', 'asset_turn', 'z_score', 'AR', 'BIASVOL', 'bias', 'day_sale_rcv', 'FI', 'free_cash_flow_per_share', 'skew', 'TURN10', 'ret_1_6', 'volume_shock', 'yz_volatility', 'rd_bias', 'macd', 'tot_debt_tot_equity', 'ret_0_1', 'ret_autocorr', 'free_cash_flow', 'kurt_skew', 'NPR', 'profit_margin', 'pe', 'illiquidity', 'HMA', 'ret_asset', 'gross_margin', 'fluc', 'invty_turn', 'ulcer', 'VSTD20', 'RPPS', 'BR', 'ret_equity', 'K20', 'ERBU', 'lterm_debt_cap', 'ERBE', 'asset_growth', 'DC', 'ret_tang_equity', 'oper_profit_margin', 'alpha12']\n"
     ]
    }
   ],
   "source": [
    "print(f\"Ratio list (n={len(ratio_col)}): {ratio_col}\")"
   ]
  },
  {
   "cell_type": "code",
   "execution_count": 30,
   "id": "14b0aeff8e1dfeb1",
   "metadata": {
    "ExecuteTime": {
     "end_time": "2024-03-01T18:54:37.735770Z",
     "start_time": "2024-03-01T18:54:32.532243Z"
    }
   },
   "outputs": [
    {
     "data": {
      "text/plain": [
       "(290, 68)"
      ]
     },
     "execution_count": 30,
     "metadata": {},
     "output_type": "execute_result"
    }
   ],
   "source": [
    "factor = calc_factor(use_cache=False, ratio=ratio)\n",
    "factor.shape"
   ]
  },
  {
   "cell_type": "code",
   "execution_count": 3,
   "id": "4f109c8828839b4b",
   "metadata": {
    "ExecuteTime": {
     "end_time": "2024-03-01T18:54:38.784866Z",
     "start_time": "2024-03-01T18:54:37.735133Z"
    }
   },
   "outputs": [
    {
     "data": {
      "text/plain": [
       "(8822, 392)"
      ]
     },
     "execution_count": 3,
     "metadata": {},
     "output_type": "execute_result"
    }
   ],
   "source": [
    "df_ff = get_ff_data()\n",
    "df_ff.shape\n",
    "price = pd.read_pickle(\"data/price.pkl\")[\"adj_close\"].unstack(\"ticker\")\n",
    "\n",
    "price = fill_price_dates(price, droplevel=False).ffill()\n",
    "price.shape"
   ]
  },
  {
   "cell_type": "markdown",
   "id": "b084e401a0ef0cd0",
   "metadata": {},
   "source": [
    "# 3. Factor Selection"
   ]
  },
  {
   "cell_type": "code",
   "execution_count": 4,
   "id": "ac402bbd",
   "metadata": {},
   "outputs": [],
   "source": [
    "ratio = pd.read_pickle('data/ratio.pkl')\n",
    "factor = pd.read_pickle('data/factor.pkl').shift(1)"
   ]
  },
  {
   "cell_type": "code",
   "execution_count": 5,
   "id": "131fccd9",
   "metadata": {},
   "outputs": [],
   "source": [
    "def predict_factor_ret(factor,method):\n",
    "    if method == 'time_weight':\n",
    "        predicted_factor_ret = time_weight_prediction(factor)\n",
    "    elif method == 'arima':\n",
    "        predicted_factor_ret = arima_prediction(factor)\n",
    "    elif method == 'var':\n",
    "        predicted_factor_ret = var_prediction(factor)\n",
    "        \n",
    "    return predicted_factor_ret\n",
    "\n",
    "\n",
    "################ three method #####################\n",
    "\n",
    "def time_weight_prediction(factor):\n",
    "    n = 12\n",
    "\n",
    "    def weighted_average(window):\n",
    "        if len(window) < n - 1:\n",
    "            return np.nan\n",
    "        weights = np.arange(1, n) / np.arange(1, n).sum()\n",
    "        return (window.iloc[-n + 1:] * weights).sum() / weights.sum()\n",
    "\n",
    "    predicted_factor_ret = factor.shift(1).rolling(window=n, min_periods=n-1).apply(weighted_average)\n",
    "    return predicted_factor_ret\n",
    "\n",
    "def arima_prediction(factor):\n",
    "    \n",
    "    def arima(df):\n",
    "        window_size = 12\n",
    "        rolling_predictions = []\n",
    "\n",
    "#         model = auto_arima(factor.iloc[:,0].dropna(),start_p=0, start_q=0,\n",
    "#                    max_p=5, max_q=5, m=1,\n",
    "#                    start_P=0, seasonal=False,\n",
    "#                    d=None, D=0, trace=True,\n",
    "#                    error_action='ignore',  \n",
    "#                    suppress_warnings=True, \n",
    "#                    stepwise=True)\n",
    "        \n",
    "        for end in range(window_size, len(df)):\n",
    "            train_data = df[:end]\n",
    "            model = ARIMA(train_data, order=(1,0,0)) \n",
    "            model_fit = model.fit()\n",
    "            pred = model_fit.forecast()\n",
    "            rolling_predictions.append(pred[0])\n",
    "\n",
    "        return pd.Series([np.nan] * window_size + rolling_predictions,index = df.index)\n",
    "    \n",
    "    predicted_factor_ret = factor.apply(arima)\n",
    "    return predicted_factor_ret\n",
    "\n",
    "def var_prediction(factor):\n",
    "    \n",
    "    window_size = 12\n",
    "    rolling_predictions = []\n",
    "    predicted_factor_ret = factor.copy()\n",
    "    df = factor.copy().fillna(0)\n",
    "\n",
    "    for end in range(window_size, len(df)):\n",
    "        train_data = df.iloc[:end]\n",
    "        model = VAR(train_data)\n",
    "        model_fit = model.fit(maxlags=1) \n",
    "        pred = model_fit.forecast(train_data.values[-model_fit.k_ar:], steps=1)\n",
    "        rolling_predictions.append(pred[0])\n",
    "\n",
    "    for i, col in enumerate(df.columns):\n",
    "        predicted_factor_ret[col] = [np.nan] * window_size + [pred[i] for pred in rolling_predictions]\n",
    "    \n",
    "    return predicted_factor_ret"
   ]
  },
  {
   "cell_type": "code",
   "execution_count": 6,
   "id": "d5fe702a",
   "metadata": {},
   "outputs": [],
   "source": [
    "# method_lst = ['time_weight','arima','var']\n",
    "# predicted_factor_ret = predict_factor_ret(factor,'time_weight')"
   ]
  },
  {
   "cell_type": "code",
   "execution_count": 7,
   "id": "4c5d0bf4",
   "metadata": {},
   "outputs": [],
   "source": [
    "def choose_factor(predicted_factor_ret):\n",
    "    r1 = predicted_factor_ret.T.copy()\n",
    "    for i in r1.columns:\n",
    "        r1[i] = r1[i].rank()\n",
    "\n",
    "    r = r1.copy().dropna(how=\"all\",axis=1)\n",
    "\n",
    "    factor_chosen = {}\n",
    "    for date in r.loc[:, \"2007-05-31\":].columns:\n",
    "        factor_chosen[date] = r[date].nlargest(10).index.tolist()\n",
    "        \n",
    "    return factor_chosen"
   ]
  },
  {
   "cell_type": "code",
   "execution_count": 8,
   "id": "3d35ca82",
   "metadata": {},
   "outputs": [],
   "source": [
    "predicted_factor_ret = pd.read_pickle('predicted_factor_arima.pkl')\n",
    "factor_chosen = choose_factor(predicted_factor_ret)"
   ]
  },
  {
   "cell_type": "markdown",
   "id": "d2f8f779abb403bc",
   "metadata": {},
   "source": [
    "# 4. Trade"
   ]
  },
  {
   "cell_type": "markdown",
   "id": "3e0e683fbb6c29ae",
   "metadata": {},
   "source": [
    "## 4.1. Single-Stock Ranking"
   ]
  },
  {
   "cell_type": "code",
   "execution_count": 15,
   "id": "8ced30994e03d1d4",
   "metadata": {
    "ExecuteTime": {
     "end_time": "2024-03-01T19:49:15.770372Z",
     "start_time": "2024-03-01T19:49:15.759316Z"
    }
   },
   "outputs": [],
   "source": [
    "from sklearn.preprocessing import scale\n",
    "\n",
    "def single_stock_pred_ols(\n",
    "        ratio: pd.DataFrame, \n",
    "        factor_chosen: dict[datetime, list[str]],\n",
    "        min_ticker: int = 50,\n",
    ") -> pd.DataFrame:\n",
    "    \"\"\"\n",
    "    Prediction next period single stock return\n",
    "    \n",
    "    Parameters\n",
    "    ----------\n",
    "    ratio: pd.DataFrame\n",
    "        Index: (date, ticker)\n",
    "        column: ratios + forward return\n",
    "    factor_chosen: dict[datetime, list[str]]\n",
    "        date -> list of factor selected for the period\n",
    "    min_ticker: int\n",
    "        minimum number of ticker predicted to generate prediction,\n",
    "        If too many ticker has missing on any of the selected factor \n",
    "        on certain date, we will not predict, i.e. change position on this date.\n",
    "        \n",
    "    Returns\n",
    "    -------\n",
    "    pd.DataFrame:\n",
    "        Index: (date, ticker)\n",
    "        Columns: \"predicted_ret\"\n",
    "    \"\"\"\n",
    "    pred = {}\n",
    "    for train_date, selected in factor_chosen.items():\n",
    "\n",
    "        # Make sure both train / test date has ratio\n",
    "        test_date = train_date + pd.offsets.MonthEnd(1)\n",
    "        if any([x not in ratio.index.get_level_values(\"date\").unique() \n",
    "                for x in [train_date, test_date]]):\n",
    "            print(f\"Not trained on {train_date}: No ratio data on train/test date\")\n",
    "            continue\n",
    "            \n",
    "        # Filter training dataset (drop NaN)\n",
    "        train_df = ratio.loc[train_date][\n",
    "            list(set(selected + [\"ret_0_1\"]))].dropna(how=\"any\")\n",
    "        if len(train_df) < min_ticker:\n",
    "            print(f\"Not trained on {train_date}: Too many tickers have missing\")\n",
    "            continue\n",
    "        \n",
    "        # Training with current month selected factor + return\n",
    "        X_train = scale(train_df[selected])\n",
    "        y_train = train_df[\"ret_0_1\"]\n",
    "        model = LinearRegression()\n",
    "        model.fit(X_train, y_train)\n",
    "        \n",
    "        # Predicting next month\n",
    "        test_df = ratio.loc[test_date][selected].dropna(how=\"any\")\n",
    "        pred[test_date] = pd.Series(\n",
    "            model.predict(scale(test_df)),\n",
    "            index = test_df.index\n",
    "        )\n",
    "    return pd.DataFrame(pred).unstack().dropna().rename(\"predicted_ret\").to_frame()"
   ]
  },
  {
   "cell_type": "markdown",
   "id": "d54e49fcee028842",
   "metadata": {},
   "source": [
    "## 4.2. Backtest"
   ]
  },
  {
   "cell_type": "code",
   "execution_count": 16,
   "id": "3a9b0b546f7f1355",
   "metadata": {
    "ExecuteTime": {
     "end_time": "2024-03-01T20:16:56.731850Z",
     "start_time": "2024-03-01T20:16:56.717169Z"
    }
   },
   "outputs": [],
   "source": [
    "def backtest_pipe(\n",
    "    name,\n",
    "    factor_chosen,\n",
    "    ratio = ratio,\n",
    "    pred_func = single_stock_pred_ols, \n",
    ") -> pd.Series:\n",
    "    \"\"\"\n",
    "    Combine single stock prediction, backtest position calculation, and \n",
    "    backtest PnL tracking in the same function for easy use.\n",
    "    \n",
    "    Parameters\n",
    "    ----------\n",
    "    name: str\n",
    "        Describe how factor are selected\n",
    "    factor_chosen: dict[datetime, list[str]]\n",
    "        a dictionary of factor selected\n",
    "    ratio: pd.DataFrame\n",
    "        Index: (date, ticker)\n",
    "        column: ratios + forward return\n",
    "    pred_func: Callable\n",
    "        single stock prediction function, default = OLS.\n",
    "\n",
    "    Returns\n",
    "    -------\n",
    "    pd.Series: \n",
    "        backtest cumulative return results evaluation, e.g. sharpe...\n",
    "        \n",
    "    This function also draw plot of cumulative with given name.\n",
    "    \"\"\"\n",
    "    # Equity return prediction\n",
    "    predicted_returns = pred_func(\n",
    "        ratio=ratio, factor_chosen=factor_chosen)\n",
    "    \n",
    "    # Trading backtest\n",
    "    INIT_CAPITAL = 2e7\n",
    "    position = calc_position_by_rank(\n",
    "        df_price=price, \n",
    "        df_ratio=predicted_returns.unstack(\"ticker\"),\n",
    "        rank_formula=\"predicted_ret\",\n",
    "        lb=0,\n",
    "        ub=0.1,\n",
    "        interval=None,\n",
    "        use_change=False,\n",
    "        position_size=INIT_CAPITAL / 20\n",
    "    )\n",
    "    trade_cls = CalcTrade(\n",
    "        df_price=price,\n",
    "        init_cap=INIT_CAPITAL\n",
    "    )\n",
    "    summary_df = trade_cls.iter_dates(position=position)\n",
    "    summary_df[\"total_ret\"].rename(name).plot(figsize=(12,4), title=\"Entire Period Return\")\n",
    "\n",
    "    return pd.Series({\n",
    "        **eval_return(summary_df[\"total_ret\"], df_ff=df_ff, ann_factor=12),\n",
    "        **ff_decomposition(summary_df[\"total_ret\"], df_ff=df_ff, ann_factor=12)\n",
    "    }, name=name)"
   ]
  },
  {
   "cell_type": "code",
   "execution_count": 17,
   "id": "c2f06260",
   "metadata": {},
   "outputs": [
    {
     "name": "stdout",
     "output_type": "stream",
     "text": [
      "Not trained on 2024-02-29 00:00:00: No ratio data on train/test date\n",
      "Not trained on 2024-02-29 00:00:00: No ratio data on train/test date\n",
      "Not trained on 2024-02-29 00:00:00: No ratio data on train/test date\n"
     ]
    },
    {
     "data": {
      "image/png": "[encoded data removed]",
      "text/plain": [
       "<Figure size 864x288 with 1 Axes>"
      ]
     },
     "metadata": {
      "needs_background": "light"
     },
     "output_type": "display_data"
    }
   ],
   "source": [
    "results = {}\n",
    "for name in ['time_weight','arima','var']:\n",
    "    predicted_factor_ret = pd.read_pickle('predicted_factor_%s.pkl'%name)\n",
    "    factor_chosen = choose_factor(predicted_factor_ret)\n",
    "    results[name] = backtest_pipe(name, factor_chosen)\n",
    "    plt.legend()"
   ]
  },
  {
   "cell_type": "code",
   "execution_count": 16,
   "id": "c936144850ecd36",
   "metadata": {
    "ExecuteTime": {
     "end_time": "2024-03-01T20:17:19.291554Z",
     "start_time": "2024-03-01T20:17:19.283336Z"
    }
   },
   "outputs": [
    {
     "data": {
      "text/html": [
       "<div>\n",
       "<style scoped>\n",
       "    .dataframe tbody tr th:only-of-type {\n",
       "        vertical-align: middle;\n",
       "    }\n",
       "\n",
       "    .dataframe tbody tr th {\n",
       "        vertical-align: top;\n",
       "    }\n",
       "\n",
       "    .dataframe thead th {\n",
       "        text-align: right;\n",
       "    }\n",
       "</style>\n",
       "<table border=\"1\" class=\"dataframe\">\n",
       "  <thead>\n",
       "    <tr style=\"text-align: right;\">\n",
       "      <th></th>\n",
       "      <th>time_weight</th>\n",
       "      <th>arima</th>\n",
       "      <th>var</th>\n",
       "    </tr>\n",
       "  </thead>\n",
       "  <tbody>\n",
       "    <tr>\n",
       "      <th>return</th>\n",
       "      <td>-0.045615</td>\n",
       "      <td>-0.020408</td>\n",
       "      <td>-0.042715</td>\n",
       "    </tr>\n",
       "    <tr>\n",
       "      <th>mean</th>\n",
       "      <td>-0.000070</td>\n",
       "      <td>0.000252</td>\n",
       "      <td>0.000106</td>\n",
       "    </tr>\n",
       "    <tr>\n",
       "      <th>std</th>\n",
       "      <td>0.004886</td>\n",
       "      <td>0.004923</td>\n",
       "      <td>0.007400</td>\n",
       "    </tr>\n",
       "    <tr>\n",
       "      <th>skew</th>\n",
       "      <td>-0.275212</td>\n",
       "      <td>0.895137</td>\n",
       "      <td>-0.040886</td>\n",
       "    </tr>\n",
       "    <tr>\n",
       "      <th>kurtosis</th>\n",
       "      <td>1.596767</td>\n",
       "      <td>3.664411</td>\n",
       "      <td>8.603995</td>\n",
       "    </tr>\n",
       "    <tr>\n",
       "      <th>sharpe</th>\n",
       "      <td>-0.291763</td>\n",
       "      <td>-0.062604</td>\n",
       "      <td>-0.109157</td>\n",
       "    </tr>\n",
       "    <tr>\n",
       "      <th>sharpe_mkt</th>\n",
       "      <td>-0.011343</td>\n",
       "      <td>0.000653</td>\n",
       "      <td>-0.004760</td>\n",
       "    </tr>\n",
       "    <tr>\n",
       "      <th>sortino</th>\n",
       "      <td>-0.383667</td>\n",
       "      <td>-0.100353</td>\n",
       "      <td>-0.134596</td>\n",
       "    </tr>\n",
       "    <tr>\n",
       "      <th>var</th>\n",
       "      <td>-0.031671</td>\n",
       "      <td>-0.024052</td>\n",
       "      <td>-0.026644</td>\n",
       "    </tr>\n",
       "    <tr>\n",
       "      <th>cvar</th>\n",
       "      <td>-0.042255</td>\n",
       "      <td>-0.033631</td>\n",
       "      <td>-0.064505</td>\n",
       "    </tr>\n",
       "    <tr>\n",
       "      <th>max_drawdown</th>\n",
       "      <td>-0.057988</td>\n",
       "      <td>-0.041634</td>\n",
       "      <td>-0.047999</td>\n",
       "    </tr>\n",
       "    <tr>\n",
       "      <th>downside_beta</th>\n",
       "      <td>0.076963</td>\n",
       "      <td>0.061705</td>\n",
       "      <td>0.097001</td>\n",
       "    </tr>\n",
       "    <tr>\n",
       "      <th>alpha</th>\n",
       "      <td>-0.233491</td>\n",
       "      <td>0.020406</td>\n",
       "      <td>-0.303484</td>\n",
       "    </tr>\n",
       "    <tr>\n",
       "      <th>beta_Mkt-RF</th>\n",
       "      <td>0.138304</td>\n",
       "      <td>0.075351</td>\n",
       "      <td>0.178005</td>\n",
       "    </tr>\n",
       "    <tr>\n",
       "      <th>beta_SMB</th>\n",
       "      <td>-0.377661</td>\n",
       "      <td>-0.099119</td>\n",
       "      <td>-0.116938</td>\n",
       "    </tr>\n",
       "    <tr>\n",
       "      <th>beta_HML</th>\n",
       "      <td>0.463614</td>\n",
       "      <td>0.367969</td>\n",
       "      <td>0.848017</td>\n",
       "    </tr>\n",
       "    <tr>\n",
       "      <th>beta_RF</th>\n",
       "      <td>-19.724482</td>\n",
       "      <td>-79.416341</td>\n",
       "      <td>21.691138</td>\n",
       "    </tr>\n",
       "  </tbody>\n",
       "</table>\n",
       "</div>"
      ],
      "text/plain": [
       "               time_weight      arima        var\n",
       "return           -0.045615  -0.020408  -0.042715\n",
       "mean             -0.000070   0.000252   0.000106\n",
       "std               0.004886   0.004923   0.007400\n",
       "skew             -0.275212   0.895137  -0.040886\n",
       "kurtosis          1.596767   3.664411   8.603995\n",
       "sharpe           -0.291763  -0.062604  -0.109157\n",
       "sharpe_mkt       -0.011343   0.000653  -0.004760\n",
       "sortino          -0.383667  -0.100353  -0.134596\n",
       "var              -0.031671  -0.024052  -0.026644\n",
       "cvar             -0.042255  -0.033631  -0.064505\n",
       "max_drawdown     -0.057988  -0.041634  -0.047999\n",
       "downside_beta     0.076963   0.061705   0.097001\n",
       "alpha            -0.233491   0.020406  -0.303484\n",
       "beta_Mkt-RF       0.138304   0.075351   0.178005\n",
       "beta_SMB         -0.377661  -0.099119  -0.116938\n",
       "beta_HML          0.463614   0.367969   0.848017\n",
       "beta_RF         -19.724482 -79.416341  21.691138"
      ]
     },
     "execution_count": 16,
     "metadata": {},
     "output_type": "execute_result"
    }
   ],
   "source": [
    "pd.DataFrame(results)"
   ]
  },
  {
   "cell_type": "code",
   "execution_count": null,
   "id": "ca86d3383ea6704f",
   "metadata": {},
   "outputs": [],
   "source": []
  }
 ],
 "metadata": {
  "kernelspec": {
   "display_name": "Python 3 (ipykernel)",
   "language": "python",
   "name": "python3"
  },
  "language_info": {
   "codemirror_mode": {
    "name": "ipython",
    "version": 3
   },
   "file_extension": ".py",
   "mimetype": "text/x-python",
   "name": "python",
   "nbconvert_exporter": "python",
   "pygments_lexer": "ipython3",
   "version": "3.9.12"
  }
 },
 "nbformat": 4,
 "nbformat_minor": 5
}
